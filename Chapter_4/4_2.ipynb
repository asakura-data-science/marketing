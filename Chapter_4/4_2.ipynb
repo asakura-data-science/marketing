{
 "cells": [
  {
   "cell_type": "markdown",
   "metadata": {},
   "source": [
    "# ロジスティックカーブ"
   ]
  },
  {
   "cell_type": "code",
   "execution_count": 1,
   "metadata": {},
   "outputs": [],
   "source": [
    "import numpy as np\n",
    "import pandas as pd\n",
    "from matplotlib import pyplot as plt\n",
    "import statsmodels.api as sm\n",
    "import os\n",
    "\n",
    "os.makedirs('out', exist_ok=True)"
   ]
  },
  {
   "cell_type": "code",
   "execution_count": 2,
   "metadata": {},
   "outputs": [
    {
     "data": {
      "text/plain": [
       "[<matplotlib.lines.Line2D at 0x130247630>]"
      ]
     },
     "execution_count": 2,
     "metadata": {},
     "output_type": "execute_result"
    },
    {
     "data": {
      "image/png": "[encoded data removed]",
      "text/plain": [
       "<Figure size 720x360 with 1 Axes>"
      ]
     },
     "metadata": {
      "needs_background": "light"
     },
     "output_type": "display_data"
    }
   ],
   "source": [
    "# ロジスティックカーブ\n",
    "plt.figure(figsize=(10, 5))\n",
    "x = np.linspace(-6, 6, 100)\n",
    "y = np.exp(x)/(1+np.exp(x))\n",
    "plt.xlabel(r'$x$')\n",
    "plt.ylabel(r'$\\exp\\{x\\}/(1+\\exp\\{x\\}$')\n",
    "plt.plot(x, y, c='black')\n",
    "# ファイル出力する場合\n",
    "#plt.savefig('out/ロジスティックカーブ.eps', dpi=600)"
   ]
  },
  {
   "cell_type": "markdown",
   "metadata": {},
   "source": [
    "### Google Colabを利用する場合は、次のセルの全行の#を1つ削除して実行する"
   ]
  },
  {
   "cell_type": "code",
   "execution_count": 3,
   "metadata": {},
   "outputs": [],
   "source": [
    "#from google.colab import drive\n",
    "#drive.mount('/content/drive')\n",
    "\n",
    "## データフレームへの読み込み\n",
    "## Google DriveのColab Notebooksにダウンロードしたフォルダ(marketing)をセットすることを想定\n",
    "#iPath = '/content/drive/MyDrive/Colab Notebooks/marketing/Chapter_4/in/'\n",
    "#iFile=iPath+'sec4-2data.csv'\n",
    "\n",
    "## モジュールの読み込み\n",
    "#import seaborn as sns\n",
    "\n",
    "## データの読み込み\n",
    "#df_logi = pd.read_csv(iFile)\n",
    "\n",
    "## 先頭5行の出力\n",
    "#df_logi.head()"
   ]
  },
  {
   "cell_type": "code",
   "execution_count": 4,
   "metadata": {
    "scrolled": true
   },
   "outputs": [
    {
     "data": {
      "text/html": [
       "<div>\n",
       "<style scoped>\n",
       "    .dataframe tbody tr th:only-of-type {\n",
       "        vertical-align: middle;\n",
       "    }\n",
       "\n",
       "    .dataframe tbody tr th {\n",
       "        vertical-align: top;\n",
       "    }\n",
       "\n",
       "    .dataframe thead th {\n",
       "        text-align: right;\n",
       "    }\n",
       "</style>\n",
       "<table border=\"1\" class=\"dataframe\">\n",
       "  <thead>\n",
       "    <tr style=\"text-align: right;\">\n",
       "      <th></th>\n",
       "      <th>モニタ</th>\n",
       "      <th>健康食品購入有無</th>\n",
       "      <th>菓子</th>\n",
       "      <th>清涼飲料</th>\n",
       "      <th>パン・シリアル類</th>\n",
       "      <th>農産</th>\n",
       "      <th>水物</th>\n",
       "      <th>麺類</th>\n",
       "      <th>デザート・ヨーグルト</th>\n",
       "      <th>乳飲料</th>\n",
       "      <th>調味料</th>\n",
       "      <th>冷凍食品</th>\n",
       "      <th>惣菜類</th>\n",
       "      <th>アルコール飲料</th>\n",
       "      <th>調理品</th>\n",
       "      <th>果実飲料</th>\n",
       "    </tr>\n",
       "  </thead>\n",
       "  <tbody>\n",
       "    <tr>\n",
       "      <th>0</th>\n",
       "      <td>13</td>\n",
       "      <td>1</td>\n",
       "      <td>0.191606</td>\n",
       "      <td>0.082117</td>\n",
       "      <td>0.031022</td>\n",
       "      <td>0.000000</td>\n",
       "      <td>0.065693</td>\n",
       "      <td>0.093066</td>\n",
       "      <td>0.023723</td>\n",
       "      <td>0.025547</td>\n",
       "      <td>0.040146</td>\n",
       "      <td>0.080292</td>\n",
       "      <td>0.009124</td>\n",
       "      <td>0.047445</td>\n",
       "      <td>0.056569</td>\n",
       "      <td>0.016423</td>\n",
       "    </tr>\n",
       "    <tr>\n",
       "      <th>1</th>\n",
       "      <td>14</td>\n",
       "      <td>1</td>\n",
       "      <td>0.202192</td>\n",
       "      <td>0.141291</td>\n",
       "      <td>0.168697</td>\n",
       "      <td>0.069428</td>\n",
       "      <td>0.031669</td>\n",
       "      <td>0.010962</td>\n",
       "      <td>0.097442</td>\n",
       "      <td>0.037759</td>\n",
       "      <td>0.024970</td>\n",
       "      <td>0.004872</td>\n",
       "      <td>0.011571</td>\n",
       "      <td>0.000609</td>\n",
       "      <td>0.015225</td>\n",
       "      <td>0.078563</td>\n",
       "    </tr>\n",
       "    <tr>\n",
       "      <th>2</th>\n",
       "      <td>15</td>\n",
       "      <td>0</td>\n",
       "      <td>0.205387</td>\n",
       "      <td>0.148148</td>\n",
       "      <td>0.181818</td>\n",
       "      <td>0.030303</td>\n",
       "      <td>0.013468</td>\n",
       "      <td>0.010101</td>\n",
       "      <td>0.050505</td>\n",
       "      <td>0.006734</td>\n",
       "      <td>0.016835</td>\n",
       "      <td>0.178451</td>\n",
       "      <td>0.016835</td>\n",
       "      <td>0.000000</td>\n",
       "      <td>0.016835</td>\n",
       "      <td>0.040404</td>\n",
       "    </tr>\n",
       "    <tr>\n",
       "      <th>3</th>\n",
       "      <td>16</td>\n",
       "      <td>1</td>\n",
       "      <td>0.162081</td>\n",
       "      <td>0.069035</td>\n",
       "      <td>0.059530</td>\n",
       "      <td>0.137069</td>\n",
       "      <td>0.075038</td>\n",
       "      <td>0.045023</td>\n",
       "      <td>0.032016</td>\n",
       "      <td>0.042021</td>\n",
       "      <td>0.037519</td>\n",
       "      <td>0.044022</td>\n",
       "      <td>0.022511</td>\n",
       "      <td>0.065533</td>\n",
       "      <td>0.007504</td>\n",
       "      <td>0.007504</td>\n",
       "    </tr>\n",
       "    <tr>\n",
       "      <th>4</th>\n",
       "      <td>18</td>\n",
       "      <td>0</td>\n",
       "      <td>0.000000</td>\n",
       "      <td>0.250000</td>\n",
       "      <td>0.000000</td>\n",
       "      <td>0.000000</td>\n",
       "      <td>0.750000</td>\n",
       "      <td>0.000000</td>\n",
       "      <td>0.000000</td>\n",
       "      <td>0.000000</td>\n",
       "      <td>0.000000</td>\n",
       "      <td>0.000000</td>\n",
       "      <td>0.000000</td>\n",
       "      <td>0.000000</td>\n",
       "      <td>0.000000</td>\n",
       "      <td>0.000000</td>\n",
       "    </tr>\n",
       "  </tbody>\n",
       "</table>\n",
       "</div>"
      ],
      "text/plain": [
       "   モニタ  健康食品購入有無        菓子      清涼飲料  パン・シリアル類        農産        水物        麺類  \\\n",
       "0   13         1  0.191606  0.082117  0.031022  0.000000  0.065693  0.093066   \n",
       "1   14         1  0.202192  0.141291  0.168697  0.069428  0.031669  0.010962   \n",
       "2   15         0  0.205387  0.148148  0.181818  0.030303  0.013468  0.010101   \n",
       "3   16         1  0.162081  0.069035  0.059530  0.137069  0.075038  0.045023   \n",
       "4   18         0  0.000000  0.250000  0.000000  0.000000  0.750000  0.000000   \n",
       "\n",
       "   デザート・ヨーグルト       乳飲料       調味料      冷凍食品       惣菜類   アルコール飲料       調理品  \\\n",
       "0    0.023723  0.025547  0.040146  0.080292  0.009124  0.047445  0.056569   \n",
       "1    0.097442  0.037759  0.024970  0.004872  0.011571  0.000609  0.015225   \n",
       "2    0.050505  0.006734  0.016835  0.178451  0.016835  0.000000  0.016835   \n",
       "3    0.032016  0.042021  0.037519  0.044022  0.022511  0.065533  0.007504   \n",
       "4    0.000000  0.000000  0.000000  0.000000  0.000000  0.000000  0.000000   \n",
       "\n",
       "       果実飲料  \n",
       "0  0.016423  \n",
       "1  0.078563  \n",
       "2  0.040404  \n",
       "3  0.007504  \n",
       "4  0.000000  "
      ]
     },
     "execution_count": 4,
     "metadata": {},
     "output_type": "execute_result"
    }
   ],
   "source": [
    "# モジュールの読み込み\n",
    "import seaborn as sns\n",
    "\n",
    "# データの読み込み\n",
    "df_logi = pd.read_csv('in/sec4-2data.csv')\n",
    "\n",
    "# 先頭5行の出力\n",
    "df_logi.head()"
   ]
  },
  {
   "cell_type": "code",
   "execution_count": 5,
   "metadata": {},
   "outputs": [
    {
     "data": {
      "image/png": "[encoded data removed]",
      "text/plain": [
       "<Figure size 628x540 with 12 Axes>"
      ]
     },
     "metadata": {
      "needs_background": "light"
     },
     "output_type": "display_data"
    }
   ],
   "source": [
    "# 散布図行列の一部の出力\n",
    "# 日本語環境\n",
    "import japanize_matplotlib\n",
    "\n",
    "# 日本語環境\n",
    "#mpl.rcParams['font.sans-serif'] = ['Hiragino Maru Gothic Pro', 'Yu Gothic', 'Meirio', 'Takao', 'IPAexGothic', 'IPAPGothic', 'VL PGothic', 'Noto SansCJK JP']\n",
    "\n",
    "# seabornによる散布図行列の作成\n",
    "sns.pairplot(df_logi.iloc[:, 1:5],  # データ\n",
    "             hue='健康食品購入有無',  # 健康食品購入有無によって色分け\n",
    "             markers=['X', 'o'],  # マーカーの指定\n",
    "             diag_kind='kde',  # 対角要素の分布にカーネル密度推定を指定\n",
    "             diag_kws=dict(shade=False)  # 対角要素に色を塗らない\n",
    "             # palette='Greys' #カラーにグレースケールを利用\n",
    "             )\n",
    "plt.savefig('out/nm_scatter_matrix.eps', dpi=600)"
   ]
  },
  {
   "cell_type": "code",
   "execution_count": 6,
   "metadata": {},
   "outputs": [
    {
     "name": "stdout",
     "output_type": "stream",
     "text": [
      "Optimization terminated successfully.\n",
      "         Current function value: 0.579182\n",
      "         Iterations 6\n"
     ]
    }
   ],
   "source": [
    "# ロジスティック回帰分析\n",
    "# 目的変数\n",
    "y = df_logi['健康食品購入有無']\n",
    "\n",
    "# 説明変数\n",
    "X = df_logi.iloc[:, 2:]\n",
    "\n",
    "# ロジスティック回帰分析のモデルの設定\n",
    "logistic_model = sm.Logit(y, sm.add_constant(X))\n",
    "\n",
    "# パラメータの求解\n",
    "logistic_res = logistic_model.fit()"
   ]
  },
  {
   "cell_type": "code",
   "execution_count": 7,
   "metadata": {},
   "outputs": [
    {
     "data": {
      "text/html": [
       "<table class=\"simpletable\">\n",
       "<caption>Logit Regression Results</caption>\n",
       "<tr>\n",
       "  <th>Dep. Variable:</th>       <td>健康食品購入有無</td>     <th>  No. Observations:  </th>  <td>   480</td> \n",
       "</tr>\n",
       "<tr>\n",
       "  <th>Model:</th>                 <td>Logit</td>      <th>  Df Residuals:      </th>  <td>   465</td> \n",
       "</tr>\n",
       "<tr>\n",
       "  <th>Method:</th>                 <td>MLE</td>       <th>  Df Model:          </th>  <td>    14</td> \n",
       "</tr>\n",
       "<tr>\n",
       "  <th>Date:</th>            <td>Sat, 28 Aug 2021</td> <th>  Pseudo R-squ.:     </th>  <td>0.05987</td>\n",
       "</tr>\n",
       "<tr>\n",
       "  <th>Time:</th>                <td>19:15:50</td>     <th>  Log-Likelihood:    </th> <td> -278.01</td>\n",
       "</tr>\n",
       "<tr>\n",
       "  <th>converged:</th>             <td>True</td>       <th>  LL-Null:           </th> <td> -295.71</td>\n",
       "</tr>\n",
       "<tr>\n",
       "  <th>Covariance Type:</th>     <td>nonrobust</td>    <th>  LLR p-value:       </th> <td>0.001278</td>\n",
       "</tr>\n",
       "</table>\n",
       "<table class=\"simpletable\">\n",
       "<tr>\n",
       "       <td></td>         <th>coef</th>     <th>std err</th>      <th>z</th>      <th>P>|z|</th>  <th>[0.025</th>    <th>0.975]</th>  \n",
       "</tr>\n",
       "<tr>\n",
       "  <th>const</th>      <td>   -0.5801</td> <td>    0.605</td> <td>   -0.958</td> <td> 0.338</td> <td>   -1.766</td> <td>    0.606</td>\n",
       "</tr>\n",
       "<tr>\n",
       "  <th>菓子</th>         <td>   -0.2234</td> <td>    0.884</td> <td>   -0.253</td> <td> 0.800</td> <td>   -1.956</td> <td>    1.509</td>\n",
       "</tr>\n",
       "<tr>\n",
       "  <th>清涼飲料</th>       <td>   -2.5495</td> <td>    0.908</td> <td>   -2.808</td> <td> 0.005</td> <td>   -4.329</td> <td>   -0.770</td>\n",
       "</tr>\n",
       "<tr>\n",
       "  <th>パン・シリアル類</th>   <td>   -0.7018</td> <td>    1.017</td> <td>   -0.690</td> <td> 0.490</td> <td>   -2.696</td> <td>    1.292</td>\n",
       "</tr>\n",
       "<tr>\n",
       "  <th>農産</th>         <td>   -0.1597</td> <td>    1.899</td> <td>   -0.084</td> <td> 0.933</td> <td>   -3.882</td> <td>    3.563</td>\n",
       "</tr>\n",
       "<tr>\n",
       "  <th>水物</th>         <td>   -1.6202</td> <td>    2.111</td> <td>   -0.767</td> <td> 0.443</td> <td>   -5.758</td> <td>    2.518</td>\n",
       "</tr>\n",
       "<tr>\n",
       "  <th>麺類</th>         <td>   -0.3918</td> <td>    1.729</td> <td>   -0.227</td> <td> 0.821</td> <td>   -3.780</td> <td>    2.997</td>\n",
       "</tr>\n",
       "<tr>\n",
       "  <th>デザート・ヨーグルト</th> <td>    0.1648</td> <td>    1.562</td> <td>    0.106</td> <td> 0.916</td> <td>   -2.896</td> <td>    3.226</td>\n",
       "</tr>\n",
       "<tr>\n",
       "  <th>乳飲料</th>        <td>    3.1823</td> <td>    2.236</td> <td>    1.423</td> <td> 0.155</td> <td>   -1.201</td> <td>    7.566</td>\n",
       "</tr>\n",
       "<tr>\n",
       "  <th>調味料</th>        <td>    2.4932</td> <td>    2.918</td> <td>    0.854</td> <td> 0.393</td> <td>   -3.226</td> <td>    8.212</td>\n",
       "</tr>\n",
       "<tr>\n",
       "  <th>冷凍食品</th>       <td>    3.6148</td> <td>    2.475</td> <td>    1.460</td> <td> 0.144</td> <td>   -1.236</td> <td>    8.466</td>\n",
       "</tr>\n",
       "<tr>\n",
       "  <th>惣菜類</th>        <td>    0.1949</td> <td>    2.808</td> <td>    0.069</td> <td> 0.945</td> <td>   -5.308</td> <td>    5.698</td>\n",
       "</tr>\n",
       "<tr>\n",
       "  <th>アルコール飲料</th>    <td>   -1.0394</td> <td>    1.145</td> <td>   -0.908</td> <td> 0.364</td> <td>   -3.284</td> <td>    1.205</td>\n",
       "</tr>\n",
       "<tr>\n",
       "  <th>調理品</th>        <td>    2.8590</td> <td>    2.655</td> <td>    1.077</td> <td> 0.282</td> <td>   -2.345</td> <td>    8.063</td>\n",
       "</tr>\n",
       "<tr>\n",
       "  <th>果実飲料</th>       <td>   -0.7242</td> <td>    2.053</td> <td>   -0.353</td> <td> 0.724</td> <td>   -4.749</td> <td>    3.300</td>\n",
       "</tr>\n",
       "</table>"
      ],
      "text/plain": [
       "<class 'statsmodels.iolib.summary.Summary'>\n",
       "\"\"\"\n",
       "                           Logit Regression Results                           \n",
       "==============================================================================\n",
       "Dep. Variable:               健康食品購入有無   No. Observations:                  480\n",
       "Model:                          Logit   Df Residuals:                      465\n",
       "Method:                           MLE   Df Model:                           14\n",
       "Date:                Sat, 28 Aug 2021   Pseudo R-squ.:                 0.05987\n",
       "Time:                        19:15:50   Log-Likelihood:                -278.01\n",
       "converged:                       True   LL-Null:                       -295.71\n",
       "Covariance Type:            nonrobust   LLR p-value:                  0.001278\n",
       "==============================================================================\n",
       "                 coef    std err          z      P>|z|      [0.025      0.975]\n",
       "------------------------------------------------------------------------------\n",
       "const         -0.5801      0.605     -0.958      0.338      -1.766       0.606\n",
       "菓子            -0.2234      0.884     -0.253      0.800      -1.956       1.509\n",
       "清涼飲料          -2.5495      0.908     -2.808      0.005      -4.329      -0.770\n",
       "パン・シリアル類      -0.7018      1.017     -0.690      0.490      -2.696       1.292\n",
       "農産            -0.1597      1.899     -0.084      0.933      -3.882       3.563\n",
       "水物            -1.6202      2.111     -0.767      0.443      -5.758       2.518\n",
       "麺類            -0.3918      1.729     -0.227      0.821      -3.780       2.997\n",
       "デザート・ヨーグルト     0.1648      1.562      0.106      0.916      -2.896       3.226\n",
       "乳飲料            3.1823      2.236      1.423      0.155      -1.201       7.566\n",
       "調味料            2.4932      2.918      0.854      0.393      -3.226       8.212\n",
       "冷凍食品           3.6148      2.475      1.460      0.144      -1.236       8.466\n",
       "惣菜類            0.1949      2.808      0.069      0.945      -5.308       5.698\n",
       "アルコール飲料       -1.0394      1.145     -0.908      0.364      -3.284       1.205\n",
       "調理品            2.8590      2.655      1.077      0.282      -2.345       8.063\n",
       "果実飲料          -0.7242      2.053     -0.353      0.724      -4.749       3.300\n",
       "==============================================================================\n",
       "\"\"\""
      ]
     },
     "execution_count": 7,
     "metadata": {},
     "output_type": "execute_result"
    }
   ],
   "source": [
    "# パラメータの出力\n",
    "# logistic_res.params\n",
    "# 分析結果の概要の出力\n",
    "logistic_res.summary()"
   ]
  },
  {
   "cell_type": "code",
   "execution_count": 8,
   "metadata": {},
   "outputs": [
    {
     "name": "stdout",
     "output_type": "stream",
     "text": [
      "Optimization terminated successfully.\n",
      "         Current function value: 0.584751\n",
      "         Iterations 6\n"
     ]
    },
    {
     "data": {
      "text/html": [
       "<table class=\"simpletable\">\n",
       "<caption>Logit Regression Results</caption>\n",
       "<tr>\n",
       "  <th>Dep. Variable:</th>       <td>健康食品購入有無</td>     <th>  No. Observations:  </th>  <td>   480</td>  \n",
       "</tr>\n",
       "<tr>\n",
       "  <th>Model:</th>                 <td>Logit</td>      <th>  Df Residuals:      </th>  <td>   476</td>  \n",
       "</tr>\n",
       "<tr>\n",
       "  <th>Method:</th>                 <td>MLE</td>       <th>  Df Model:          </th>  <td>     3</td>  \n",
       "</tr>\n",
       "<tr>\n",
       "  <th>Date:</th>            <td>Sat, 28 Aug 2021</td> <th>  Pseudo R-squ.:     </th>  <td>0.05083</td> \n",
       "</tr>\n",
       "<tr>\n",
       "  <th>Time:</th>                <td>19:15:50</td>     <th>  Log-Likelihood:    </th> <td> -280.68</td> \n",
       "</tr>\n",
       "<tr>\n",
       "  <th>converged:</th>             <td>True</td>       <th>  LL-Null:           </th> <td> -295.71</td> \n",
       "</tr>\n",
       "<tr>\n",
       "  <th>Covariance Type:</th>     <td>nonrobust</td>    <th>  LLR p-value:       </th> <td>1.338e-06</td>\n",
       "</tr>\n",
       "</table>\n",
       "<table class=\"simpletable\">\n",
       "<tr>\n",
       "    <td></td>       <th>coef</th>     <th>std err</th>      <th>z</th>      <th>P>|z|</th>  <th>[0.025</th>    <th>0.975]</th>  \n",
       "</tr>\n",
       "<tr>\n",
       "  <th>const</th> <td>   -0.7123</td> <td>    0.171</td> <td>   -4.169</td> <td> 0.000</td> <td>   -1.047</td> <td>   -0.377</td>\n",
       "</tr>\n",
       "<tr>\n",
       "  <th>清涼飲料</th>  <td>   -2.5494</td> <td>    0.708</td> <td>   -3.598</td> <td> 0.000</td> <td>   -3.938</td> <td>   -1.161</td>\n",
       "</tr>\n",
       "<tr>\n",
       "  <th>乳飲料</th>   <td>    3.3946</td> <td>    2.085</td> <td>    1.628</td> <td> 0.104</td> <td>   -0.692</td> <td>    7.481</td>\n",
       "</tr>\n",
       "<tr>\n",
       "  <th>冷凍食品</th>  <td>    4.6138</td> <td>    2.310</td> <td>    1.997</td> <td> 0.046</td> <td>    0.087</td> <td>    9.141</td>\n",
       "</tr>\n",
       "</table>"
      ],
      "text/plain": [
       "<class 'statsmodels.iolib.summary.Summary'>\n",
       "\"\"\"\n",
       "                           Logit Regression Results                           \n",
       "==============================================================================\n",
       "Dep. Variable:               健康食品購入有無   No. Observations:                  480\n",
       "Model:                          Logit   Df Residuals:                      476\n",
       "Method:                           MLE   Df Model:                            3\n",
       "Date:                Sat, 28 Aug 2021   Pseudo R-squ.:                 0.05083\n",
       "Time:                        19:15:50   Log-Likelihood:                -280.68\n",
       "converged:                       True   LL-Null:                       -295.71\n",
       "Covariance Type:            nonrobust   LLR p-value:                 1.338e-06\n",
       "==============================================================================\n",
       "                 coef    std err          z      P>|z|      [0.025      0.975]\n",
       "------------------------------------------------------------------------------\n",
       "const         -0.7123      0.171     -4.169      0.000      -1.047      -0.377\n",
       "清涼飲料          -2.5494      0.708     -3.598      0.000      -3.938      -1.161\n",
       "乳飲料            3.3946      2.085      1.628      0.104      -0.692       7.481\n",
       "冷凍食品           4.6138      2.310      1.997      0.046       0.087       9.141\n",
       "==============================================================================\n",
       "\"\"\""
      ]
     },
     "execution_count": 8,
     "metadata": {},
     "output_type": "execute_result"
    }
   ],
   "source": [
    "# 変数を限定したモデル\n",
    "# 限定した説明変数\n",
    "X2 = df_logi.loc[:, ['清涼飲料', '乳飲料', '冷凍食品']]\n",
    "\n",
    "# モデルの作成とパラメータの求解\n",
    "logistic_model2 = sm.Logit(y, sm.add_constant(X2))\n",
    "logistic_res2 = logistic_model2.fit()\n",
    "\n",
    "# 結果の出力\n",
    "logistic_res2.summary()\n",
    "\n",
    "# パラメータの出力\n",
    "# logistic_res2.params"
   ]
  },
  {
   "cell_type": "code",
   "execution_count": 9,
   "metadata": {},
   "outputs": [
    {
     "data": {
      "text/html": [
       "<div>\n",
       "<style scoped>\n",
       "    .dataframe tbody tr th:only-of-type {\n",
       "        vertical-align: middle;\n",
       "    }\n",
       "\n",
       "    .dataframe tbody tr th {\n",
       "        vertical-align: top;\n",
       "    }\n",
       "\n",
       "    .dataframe thead th {\n",
       "        text-align: right;\n",
       "    }\n",
       "</style>\n",
       "<table border=\"1\" class=\"dataframe\">\n",
       "  <thead>\n",
       "    <tr style=\"text-align: right;\">\n",
       "      <th></th>\n",
       "      <th>予測クラス=0</th>\n",
       "      <th>予測クラス=1</th>\n",
       "    </tr>\n",
       "  </thead>\n",
       "  <tbody>\n",
       "    <tr>\n",
       "      <th>観測クラス=0</th>\n",
       "      <td>158</td>\n",
       "      <td>175</td>\n",
       "    </tr>\n",
       "    <tr>\n",
       "      <th>観測クラス=1</th>\n",
       "      <td>39</td>\n",
       "      <td>108</td>\n",
       "    </tr>\n",
       "  </tbody>\n",
       "</table>\n",
       "</div>"
      ],
      "text/plain": [
       "         予測クラス=0  予測クラス=1\n",
       "観測クラス=0      158      175\n",
       "観測クラス=1       39      108"
      ]
     },
     "execution_count": 9,
     "metadata": {},
     "output_type": "execute_result"
    }
   ],
   "source": [
    "# 混同行列と精度計算のためのモジュールの読み込み\n",
    "from sklearn.metrics import confusion_matrix, accuracy_score, precision_score, recall_score, f1_score\n",
    "\n",
    "# 予測確率の計算\n",
    "pred_class = pd.DataFrame(logistic_res2.predict())\n",
    "\n",
    "# クラスに変換（購入経験有りの構成比率以上であれば1，そうでなければ0）\n",
    "pred_class = pred_class.iloc[:, 0].map(\n",
    "    lambda x: 1 if x >= y.sum() / y.count() else 0)\n",
    "\n",
    "# 混同行列の作成\n",
    "conf_mat = pd.DataFrame(confusion_matrix(y, pred_class))\n",
    "conf_mat.index = ['観測クラス=0', '観測クラス=1']\n",
    "conf_mat.columns = ['予測クラス=0', '予測クラス=1']\n",
    "\n",
    "# 混同行列の出力\n",
    "conf_mat"
   ]
  },
  {
   "cell_type": "code",
   "execution_count": 10,
   "metadata": {},
   "outputs": [
    {
     "name": "stdout",
     "output_type": "stream",
     "text": [
      "accuracy:  0.5541666666666667\n",
      "precision:  0.38162544169611307\n",
      "recall:  0.7346938775510204\n",
      "f1:  0.5023255813953489\n"
     ]
    }
   ],
   "source": [
    "# 各種精度の計算\n",
    "print('accuracy: ', accuracy_score(y, pred_class))\n",
    "print('precision: ', precision_score(y, pred_class))\n",
    "print('recall: ', recall_score(y, pred_class))\n",
    "print('f1: ', f1_score(y, pred_class))"
   ]
  },
  {
   "cell_type": "markdown",
   "metadata": {},
   "source": [
    "例題4.10"
   ]
  },
  {
   "cell_type": "code",
   "execution_count": 11,
   "metadata": {},
   "outputs": [
    {
     "data": {
      "text/html": [
       "<div>\n",
       "<style scoped>\n",
       "    .dataframe tbody tr th:only-of-type {\n",
       "        vertical-align: middle;\n",
       "    }\n",
       "\n",
       "    .dataframe tbody tr th {\n",
       "        vertical-align: top;\n",
       "    }\n",
       "\n",
       "    .dataframe thead th {\n",
       "        text-align: right;\n",
       "    }\n",
       "</style>\n",
       "<table border=\"1\" class=\"dataframe\">\n",
       "  <thead>\n",
       "    <tr style=\"text-align: right;\">\n",
       "      <th></th>\n",
       "      <th>予測クラス=0</th>\n",
       "      <th>予測クラス=1</th>\n",
       "    </tr>\n",
       "  </thead>\n",
       "  <tbody>\n",
       "    <tr>\n",
       "      <th>観測クラス=0</th>\n",
       "      <td>153</td>\n",
       "      <td>180</td>\n",
       "    </tr>\n",
       "    <tr>\n",
       "      <th>観測クラス=1</th>\n",
       "      <td>34</td>\n",
       "      <td>113</td>\n",
       "    </tr>\n",
       "  </tbody>\n",
       "</table>\n",
       "</div>"
      ],
      "text/plain": [
       "         予測クラス=0  予測クラス=1\n",
       "観測クラス=0      153      180\n",
       "観測クラス=1       34      113"
      ]
     },
     "execution_count": 11,
     "metadata": {},
     "output_type": "execute_result"
    }
   ],
   "source": [
    "# 混同行列と精度計算のためのモジュールの読み込み\n",
    "from sklearn.metrics import confusion_matrix, accuracy_score, precision_score, recall_score, f1_score\n",
    "\n",
    "# 予測確率の計算\n",
    "pred_class = pd.DataFrame(logistic_res2.predict())\n",
    "\n",
    "# クラスに変換（0.3以上であれば1，そうでなければ0）\n",
    "pred_class = pred_class.iloc[:, 0].map(lambda x: 1 if x >= .3 else 0)\n",
    "\n",
    "# 混同行列の作成\n",
    "conf_mat = pd.DataFrame(confusion_matrix(y, pred_class))\n",
    "conf_mat.index = ['観測クラス=0', '観測クラス=1']\n",
    "conf_mat.columns = ['予測クラス=0', '予測クラス=1']\n",
    "\n",
    "# 混同行列の出力\n",
    "conf_mat"
   ]
  }
 ],
 "metadata": {
  "kernelspec": {
   "display_name": "Python 3",
   "language": "python",
   "name": "python3"
  },
  "language_info": {
   "codemirror_mode": {
    "name": "ipython",
    "version": 3
   },
   "file_extension": ".py",
   "mimetype": "text/x-python",
   "name": "python",
   "nbconvert_exporter": "python",
   "pygments_lexer": "ipython3",
   "version": "3.7.1"
  }
 },
 "nbformat": 4,
 "nbformat_minor": 4
}
